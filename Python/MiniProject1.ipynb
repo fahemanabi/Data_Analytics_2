{
  "nbformat": 4,
  "nbformat_minor": 0,
  "metadata": {
    "colab": {
      "name": "MiniProject1.ipynb",
      "provenance": []
    },
    "kernelspec": {
      "name": "python3",
      "display_name": "Python 3"
    }
  },
  "cells": [
    {
      "cell_type": "code",
      "metadata": {
        "colab": {
          "base_uri": "https://localhost:8080/"
        },
        "id": "CzaG3RizRMZr",
        "outputId": "82790cee-eb02-4475-9e1b-8466c51f63ee"
      },
      "source": [
        "num = int(input('Please enter a number:'))\n",
        "if (num % 2) == 0:\n",
        "  print(num, \"is even\".format(num))\n",
        "else: \n",
        "  print(num, \"is odd\".format(num))\n",
        "def multiple(m, n):\n",
        "\treturn \"I am a multiple of four\" if m % n == 0 else \"I am NOT a multiple of four\"\n",
        "m = num\n",
        "print(multiple(m, 4))"
      ],
      "execution_count": 61,
      "outputs": [
        {
          "output_type": "stream",
          "text": [
            "Please enter a number:4\n",
            "4 is even\n",
            "I am a multiple of four\n"
          ],
          "name": "stdout"
        }
      ]
    },
    {
      "cell_type": "code",
      "metadata": {
        "colab": {
          "base_uri": "https://localhost:8080/"
        },
        "id": "EfKWlXG2XBMe",
        "outputId": "7d9fc196-4556-48e8-f819-278d5108728a"
      },
      "source": [
        "num = int(input('Please enter a first number:'))\n",
        "check = int(input('Please enter a second number:'))\n",
        "if (num % check) == 0: \n",
        "  print(check, 'divides evenly '.format(check) + 'into',num)\n",
        "else:\n",
        "  print(check,'does not divide evenly '.format(check) + 'into',num)"
      ],
      "execution_count": 62,
      "outputs": [
        {
          "output_type": "stream",
          "text": [
            "Please enter a first number:4\n",
            "Please enter a second number:2\n",
            "2 divides evenly into 4\n"
          ],
          "name": "stdout"
        }
      ]
    }
  ]
}